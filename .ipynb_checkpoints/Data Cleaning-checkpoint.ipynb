{
 "cells": [
  {
   "cell_type": "markdown",
   "id": "a943521c-acc1-4976-b24a-b8effb16d43c",
   "metadata": {},
   "source": [
    "#### Importation des Bibliothèques"
   ]
  },
  {
   "cell_type": "code",
   "execution_count": 1,
   "id": "b43b7156-1f82-42bf-bd8c-1a2aa57f6dd0",
   "metadata": {},
   "outputs": [],
   "source": [
    "import requests\n",
    "import pandas as pd\n",
    "import numpy as np"
   ]
  },
  {
   "cell_type": "markdown",
   "id": "b036aa15-1bee-4557-a0a6-e52eefcab5f7",
   "metadata": {},
   "source": [
    "#### Définition des Indicateurs"
   ]
  },
  {
   "cell_type": "code",
   "execution_count": 2,
   "id": "1f392d93-f96a-4130-87c8-1f55ad41235a",
   "metadata": {},
   "outputs": [],
   "source": [
    "# Définir les indicateurs \n",
    "indicators = {\n",
    "    \"EG.FEC.RNEW.ZS\": \"Taux d'énergie renouvelable\",\n",
    "    \"EG.ELC.RNWX.ZS\": \"Investissements en énergies renouvelables (% du PIB)\",\n",
    "    \"NY.GDP.PCAP.CD\": \"PIB par habitant (USD)\",\n",
    "    \"SE.SEC.NENR\": \"Taux de scolarisation secondaire (%)\",\n",
    "    \"EG.ELC.ACCS.ZS\": \"Accès à l'électricité (%)\"\n",
    "}\n",
    "\n",
    "\n",
    "# Définir la période de 2010 à 2023\n",
    "start_year = 2010\n",
    "end_year = 2023\n"
   ]
  },
  {
   "cell_type": "markdown",
   "id": "c5cc62df-d6bf-4b0d-9945-e0a5992d1a60",
   "metadata": {},
   "source": [
    "\n",
    "\n",
    "\n",
    "\n",
    "\n",
    "#### Ce code récupère les données des indicateurs  via l'API de la **Banque mondiale** pour la période **2010-2023**. Il combine ces données dans un **DataFrame unique** en effectuant les étapes suivantes :\n",
    "\n",
    "1. Envoi d'une requête pour chaque indicateur.  \n",
    "2. Normalisation des données JSON en un tableau structuré.  \n",
    "3. Sélection et renommage des colonnes essentielles (Pays, Année, Valeur).  \n",
    "4. Fusion progressive des données sur les colonnes \"Country\" et \"Year\".  \n"
   ]
  },
  {
   "cell_type": "code",
   "execution_count": 3,
   "id": "cbbc4ff7-e165-47f9-9fcd-41a0fae9697d",
   "metadata": {},
   "outputs": [],
   "source": [
    "# DataFrame vide pour combiner les données\n",
    "df_combined = pd.DataFrame()\n",
    "\n",
    "# Boucle pour récupérer chaque indicateur et ajouter les données dans le dataframe\n",
    "for indicator, description in indicators.items():\n",
    "    \n",
    "    url = f\"http://api.worldbank.org/v2/country/all/indicator/{indicator}?format=json&date={start_year}:{end_year}&per_page=5000\"\n",
    "    response = requests.get(url)\n",
    "    \n",
    "    if response.status_code == 200:\n",
    "        data = response.json()\n",
    "        if data and len(data) > 1:\n",
    "            results = data[1]\n",
    "            \n",
    "            # Normaliser la réponse JSON pour en faire un DataFrame\n",
    "            df = pd.json_normalize(results)\n",
    "            \n",
    "            # Garder uniquement les colonnes nécessaires : pays, valeur de l'indicateur et année\n",
    "            df = df[[\"country.value\", \"value\", \"date\"]]\n",
    "            \n",
    "            # Renommer les colonnes\n",
    "            df.columns = [\"Country\", description, \"Year\"]\n",
    "            \n",
    "            # Si df_combined est vide, initialisez-le avec le premier indicateur\n",
    "            if df_combined.empty:\n",
    "                df_combined = df\n",
    "            else:\n",
    "                # Fusionner sur les colonnes \"Country\" et \"Year\"\n",
    "                df_combined = pd.merge(df_combined, df, on=[\"Country\", \"Year\"], how=\"outer\")\n",
    "        else:\n",
    "            print(f\"Aucune donnée trouvée pour l'indicateur {indicator}.\")\n",
    "    else:\n",
    "        print(f\"Erreur lors de la requête pour l'indicateur {indicator} : {response.status_code}\")"
   ]
  },
  {
   "cell_type": "markdown",
   "id": "400c359a-aee8-4206-bed1-4758d94ff0e2",
   "metadata": {},
   "source": [
    "#### Vérification de la structure des données récupérées"
   ]
  },
  {
   "cell_type": "code",
   "execution_count": 4,
   "id": "3d22bf47-e4fc-4e1f-9d57-08f129f81aab",
   "metadata": {},
   "outputs": [
    {
     "name": "stdout",
     "output_type": "stream",
     "text": [
      "       Country  Taux d'énergie renouvelable  Year  \\\n",
      "0  Afghanistan                         15.2  2010   \n",
      "1  Afghanistan                         12.6  2011   \n",
      "2  Afghanistan                         15.4  2012   \n",
      "3  Afghanistan                         16.9  2013   \n",
      "4  Afghanistan                         19.1  2014   \n",
      "\n",
      "   Investissements en énergies renouvelables (% du PIB)  \\\n",
      "0                                                NaN      \n",
      "1                                                NaN      \n",
      "2                                                NaN      \n",
      "3                                                NaN      \n",
      "4                                                NaN      \n",
      "\n",
      "   PIB par habitant (USD)  Taux de scolarisation secondaire (%)  \\\n",
      "0              560.621505                                   NaN   \n",
      "1              606.694676                                   NaN   \n",
      "2              651.417134                                   NaN   \n",
      "3              637.087099                               46.1909   \n",
      "4              625.054942                               46.0584   \n",
      "\n",
      "   Accès à l'électricité (%)  \n",
      "0                       42.7  \n",
      "1                       43.2  \n",
      "2                       69.1  \n",
      "3                       68.0  \n",
      "4                       89.5  \n"
     ]
    }
   ],
   "source": [
    "# Vérification de la structure des données récupérées\n",
    "print(df_combined.head())"
   ]
  },
  {
   "cell_type": "markdown",
   "id": "ef037c73-b9c6-4dcf-8eb5-009780556ac7",
   "metadata": {},
   "source": [
    "#### Vérifier les colonnes extraites"
   ]
  },
  {
   "cell_type": "code",
   "execution_count": 5,
   "id": "c9ba2e38-0888-4443-8fdc-c0e340da35bf",
   "metadata": {},
   "outputs": [
    {
     "name": "stdout",
     "output_type": "stream",
     "text": [
      "\n",
      "Liste des colonnes disponibles :\n",
      "Index(['Country', 'Taux d'énergie renouvelable', 'Year',\n",
      "       'Investissements en énergies renouvelables (% du PIB)',\n",
      "       'PIB par habitant (USD)', 'Taux de scolarisation secondaire (%)',\n",
      "       'Accès à l'électricité (%)'],\n",
      "      dtype='object')\n"
     ]
    }
   ],
   "source": [
    "# Vérifier les colonnes extraites\n",
    "print(\"\\nListe des colonnes disponibles :\")\n",
    "print(df_combined.columns)"
   ]
  },
  {
   "cell_type": "markdown",
   "id": "af5e070b-0c2e-4413-b97d-0c5ff5bb92c5",
   "metadata": {},
   "source": [
    "#### Identification et Quantification des Valeurs Manquantes par Colonne"
   ]
  },
  {
   "cell_type": "code",
   "execution_count": 6,
   "id": "cfb1da37-d270-467a-b97a-336bc8be625b",
   "metadata": {},
   "outputs": [
    {
     "name": "stdout",
     "output_type": "stream",
     "text": [
      "\n",
      "Valeurs manquantes par colonne :\n",
      "Country                                                    0\n",
      "Taux d'énergie renouvelable                              585\n",
      "Year                                                       0\n",
      "Investissements en énergies renouvelables (% du PIB)    2610\n",
      "PIB par habitant (USD)                                   114\n",
      "Taux de scolarisation secondaire (%)                    2363\n",
      "Accès à l'électricité (%)                                305\n",
      "dtype: int64\n",
      "\n",
      "Pourcentage de valeurs manquantes par colonne :\n",
      "Country                                                  0.000000\n",
      "Taux d'énergie renouvelable                             15.708915\n",
      "Year                                                     0.000000\n",
      "Investissements en énergies renouvelables (% du PIB)    70.085929\n",
      "PIB par habitant (USD)                                   3.061224\n",
      "Taux de scolarisation secondaire (%)                    63.453276\n",
      "Accès à l'électricité (%)                                8.190118\n",
      "dtype: float64\n"
     ]
    }
   ],
   "source": [
    "# Vérifier les colonnes avec des valeurs manquantes\n",
    "print(\"\\nValeurs manquantes par colonne :\")\n",
    "print(df_combined.isnull().sum())\n",
    "\n",
    "# Pourcentage de valeurs manquantes par colonne\n",
    "print(\"\\nPourcentage de valeurs manquantes par colonne :\")\n",
    "missing_percent = (df_combined.isnull().sum() / len(df_combined)) * 100\n",
    "print(missing_percent)"
   ]
  },
  {
   "cell_type": "code",
   "execution_count": 7,
   "id": "d100fdf1-a195-46eb-9285-ad3a05687139",
   "metadata": {},
   "outputs": [
    {
     "name": "stdout",
     "output_type": "stream",
     "text": [
      "Colonnes après renommage : Index(['Pays', 'Taux d'énergie renouvelable', 'Année',\n",
      "       'Investissements en énergies renouvelables (% du PIB)',\n",
      "       'PIB par habitant (USD)', 'Taux de scolarisation secondaire (%)',\n",
      "       'Accès à l'électricité (%)'],\n",
      "      dtype='object')\n"
     ]
    }
   ],
   "source": [
    "# Renommer les colonnes pour utiliser des noms en français\n",
    "df_combined.rename(columns={\"Country\": \"Pays\", \"Year\": \"Année\"}, inplace=True)\n",
    "\n",
    "# Vérification après renommage\n",
    "print(\"Colonnes après renommage :\", df_combined.columns)"
   ]
  },
  {
   "cell_type": "code",
   "execution_count": 8,
   "id": "c2f935ce-4560-4b98-b2cd-1922048dbff9",
   "metadata": {},
   "outputs": [
    {
     "name": "stdout",
     "output_type": "stream",
     "text": [
      "Pays                                                     object\n",
      "Taux d'énergie renouvelable                             float64\n",
      "Année                                                    object\n",
      "Investissements en énergies renouvelables (% du PIB)    float64\n",
      "PIB par habitant (USD)                                  float64\n",
      "Taux de scolarisation secondaire (%)                    float64\n",
      "Accès à l'électricité (%)                               float64\n",
      "dtype: object\n"
     ]
    }
   ],
   "source": [
    "print(df_combined.dtypes)"
   ]
  },
  {
   "cell_type": "markdown",
   "id": "af902326-cd02-429e-95ed-8a2211dd7dc9",
   "metadata": {},
   "source": [
    "#### Gestion des Valeurs Manquantes pour les Colonnes Numériques"
   ]
  },
  {
   "cell_type": "code",
   "execution_count": 9,
   "id": "e0971698-fb68-4b5e-9cac-b2f295010372",
   "metadata": {},
   "outputs": [],
   "source": [
    "# Identifier les colonnes numériques\n",
    "colonnes_numeriques = df_combined.select_dtypes(include=['float64', 'int64']).columns\n",
    "\n",
    "# Remplir par la moyenne par pays pour chaque indicateur\n",
    "for col in colonnes_numeriques:\n",
    "    df_combined[col] = df_combined.groupby(\"Pays\")[col].transform(lambda x: x.fillna(x.mean()))\n",
    "\n",
    "# Remplir les valeurs restantes par la moyenne globale\n",
    "for col in colonnes_numeriques:\n",
    "    df_combined[col] = df_combined[col].fillna(df_combined[col].mean())\n"
   ]
  },
  {
   "cell_type": "markdown",
   "id": "5fcc5bb0-b9a3-4066-9a1f-4b83f0ede2d9",
   "metadata": {},
   "source": [
    "1-**Remplir les valeurs manquantes par la moyenne, par pays :**\n",
    "\n",
    "Pour chaque colonne numérique (col), groupby(\"Pays\") crée un groupe de données par pays.\n",
    "**transform(lambda x: x.fillna(x.mean()))** remplit les valeurs manquantes dans chaque groupe par la moyenne de ce groupe. Cela permet de compenser les valeurs manquantes de manière locale, selon les données disponibles pour chaque pays.\n",
    "\n",
    "2-**Remplir les valeurs restantes par la moyenne globale :**\n",
    "\n",
    "Ensuite, pour les valeurs manquantes restantes après le remplissage par groupe, on remplit encore une fois par la moyenne globale de la colonne.\n",
    "**fillna(df_combined[col].mean())** remplace les valeurs manquantes par la moyenne calculée sur toute la colonne, assurant ainsi une imputation uniforme pour les données globales.\n"
   ]
  },
  {
   "cell_type": "markdown",
   "id": "5941b397-f9b4-4b87-be00-fa0d74d9d90b",
   "metadata": {},
   "source": [
    "#### Vérification des valeurs manquantes après traitement"
   ]
  },
  {
   "cell_type": "code",
   "execution_count": 10,
   "id": "4aedf9d3-b719-497c-a77c-09ca6602f38d",
   "metadata": {},
   "outputs": [
    {
     "name": "stdout",
     "output_type": "stream",
     "text": [
      "\n",
      "Valeurs manquantes par colonne après traitement :\n",
      "Pays                                                    0\n",
      "Taux d'énergie renouvelable                             0\n",
      "Année                                                   0\n",
      "Investissements en énergies renouvelables (% du PIB)    0\n",
      "PIB par habitant (USD)                                  0\n",
      "Taux de scolarisation secondaire (%)                    0\n",
      "Accès à l'électricité (%)                               0\n",
      "dtype: int64\n",
      "\n",
      "Pourcentage de valeurs manquantes par colonne :\n",
      "Pays                                                    0.0\n",
      "Taux d'énergie renouvelable                             0.0\n",
      "Année                                                   0.0\n",
      "Investissements en énergies renouvelables (% du PIB)    0.0\n",
      "PIB par habitant (USD)                                  0.0\n",
      "Taux de scolarisation secondaire (%)                    0.0\n",
      "Accès à l'électricité (%)                               0.0\n",
      "dtype: float64\n"
     ]
    }
   ],
   "source": [
    "# Vérification des valeurs manquantes après traitement\n",
    "print(\"\\nValeurs manquantes par colonne après traitement :\")\n",
    "print(df_combined.isnull().sum())\n",
    "\n",
    "# Pourcentage de valeurs manquantes après traitement\n",
    "print(\"\\nPourcentage de valeurs manquantes par colonne :\")\n",
    "missing_percent = (df_combined.isnull().sum() / len(df_combined)) * 100\n",
    "print(missing_percent)"
   ]
  },
  {
   "cell_type": "markdown",
   "id": "6ccc84c8-9fd7-4a6c-8bde-247d8938ac82",
   "metadata": {},
   "source": [
    "#### Vérifier s'il y a des doublons"
   ]
  },
  {
   "cell_type": "code",
   "execution_count": 11,
   "id": "cc8892a8-6ff1-424b-a319-7be6794a1412",
   "metadata": {},
   "outputs": [
    {
     "name": "stdout",
     "output_type": "stream",
     "text": [
      "\n",
      "Nombre de doublons trouvés : 0\n"
     ]
    }
   ],
   "source": [
    "# Vérifier s'il y a des doublons\n",
    "duplicates = df_combined[df_combined.duplicated()]\n",
    "print(f\"\\nNombre de doublons trouvés : {len(duplicates)}\")"
   ]
  },
  {
   "cell_type": "code",
   "execution_count": 12,
   "id": "34219f24-e36d-4c6c-a6b8-0223426f8502",
   "metadata": {},
   "outputs": [
    {
     "name": "stdout",
     "output_type": "stream",
     "text": [
      "          Pays  Taux d'énergie renouvelable Année  \\\n",
      "0  Afghanistan                         15.2  2010   \n",
      "1  Afghanistan                         12.6  2011   \n",
      "2  Afghanistan                         15.4  2012   \n",
      "3  Afghanistan                         16.9  2013   \n",
      "4  Afghanistan                         19.1  2014   \n",
      "\n",
      "   Investissements en énergies renouvelables (% du PIB)  \\\n",
      "0                                           4.838663      \n",
      "1                                           4.838663      \n",
      "2                                           4.838663      \n",
      "3                                           4.838663      \n",
      "4                                           4.838663      \n",
      "\n",
      "   PIB par habitant (USD)  Taux de scolarisation secondaire (%)  \\\n",
      "0              560.621505                             47.154018   \n",
      "1              606.694676                             47.154018   \n",
      "2              651.417134                             47.154018   \n",
      "3              637.087099                             46.190900   \n",
      "4              625.054942                             46.058400   \n",
      "\n",
      "   Accès à l'électricité (%)  \n",
      "0                       42.7  \n",
      "1                       43.2  \n",
      "2                       69.1  \n",
      "3                       68.0  \n",
      "4                       89.5  \n"
     ]
    }
   ],
   "source": [
    "# Vérifiez un aperçu des données\n",
    "print(df_combined.head())"
   ]
  },
  {
   "cell_type": "markdown",
   "id": "98025acc-7551-4240-82a6-418439c674c5",
   "metadata": {},
   "source": [
    "#### Ajouter des colonnes calculer :"
   ]
  },
  {
   "cell_type": "code",
   "execution_count": 13,
   "id": "2c6e39ab-7068-4a2b-8956-2953fe28961b",
   "metadata": {},
   "outputs": [],
   "source": [
    "# Ajouter la classification par revenu basée sur le PIB par habitant\n",
    "def classify_income(row):\n",
    "    if row['PIB par habitant (USD)'] < 1046:\n",
    "        return 'Low income'\n",
    "    elif 1046 <= row['PIB par habitant (USD)'] < 4136:\n",
    "        return 'Lower middle income'\n",
    "    elif 4136 <= row['PIB par habitant (USD)'] < 12846:\n",
    "        return 'Upper middle income'\n",
    "    else:\n",
    "        return 'High income'\n",
    "\n",
    "df_combined['Revenu'] = df_combined.apply(classify_income, axis=1)\n",
    "\n",
    "\n",
    "# Ajouter une colonne binaire pour déterminer si un pays dépasse 50% d'énergie renouvelable\n",
    "df_combined['Dépassement 50%'] = df_combined['Taux d\\'énergie renouvelable'].apply(lambda x: 'Oui' if x > 50 else 'Non')\n",
    "\n",
    "# Ajouter la classification de la transition énergétique\n",
    "def classify_transition(row):\n",
    "    if row['Taux d\\'énergie renouvelable'] > 50:\n",
    "        return 'Avancée'\n",
    "    elif 25 <= row['Taux d\\'énergie renouvelable'] <= 50:\n",
    "        return 'Intermédiaire'\n",
    "    else:\n",
    "        return 'Débutante'\n",
    "\n",
    "df_combined['Classification Transition Énergétique'] = df_combined.apply(classify_transition, axis=1)"
   ]
  },
  {
   "cell_type": "markdown",
   "id": "eb80b940-843d-4a96-8b6f-d4505df47687",
   "metadata": {},
   "source": [
    "#### Exporter les données dans un fichier CSV"
   ]
  },
  {
   "cell_type": "code",
   "execution_count": 14,
   "id": "6c776d9a-3ebf-4469-973d-b3500165800e",
   "metadata": {},
   "outputs": [
    {
     "name": "stdout",
     "output_type": "stream",
     "text": [
      "Données pour l'année 2023 enregistrées dans 'transition_energetique_pays_2023.csv'\n"
     ]
    }
   ],
   "source": [
    "# Filtrer les données pour ne garder que l'année 2023\n",
    "df_combined_2023 = df_combined[df_combined['Année'] == '2023']\n",
    "\n",
    "# Enregistrer les données nettoyées et transformées dans un fichier CSV\n",
    "df_combined_2023.to_csv('transition_energetique_pays_2023.csv', index=False)\n",
    "\n",
    "print(\"Données pour l'année 2023 enregistrées dans 'transition_energetique_pays_2023.csv'\")"
   ]
  }
 ],
 "metadata": {
  "kernelspec": {
   "display_name": "Python 3 (ipykernel)",
   "language": "python",
   "name": "python3"
  },
  "language_info": {
   "codemirror_mode": {
    "name": "ipython",
    "version": 3
   },
   "file_extension": ".py",
   "mimetype": "text/x-python",
   "name": "python",
   "nbconvert_exporter": "python",
   "pygments_lexer": "ipython3",
   "version": "3.12.7"
  }
 },
 "nbformat": 4,
 "nbformat_minor": 5
}
